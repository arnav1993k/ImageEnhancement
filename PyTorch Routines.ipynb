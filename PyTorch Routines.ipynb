{
 "cells": [
  {
   "cell_type": "code",
   "execution_count": 1,
   "metadata": {},
   "outputs": [],
   "source": [
    "import torch \n",
    "import torchvision\n",
    "import torch.nn as nn\n",
    "import numpy as np\n",
    "import torchvision.transforms as transforms"
   ]
  },
  {
   "cell_type": "code",
   "execution_count": 3,
   "metadata": {},
   "outputs": [
    {
     "name": "stdout",
     "output_type": "stream",
     "text": [
      "tensor(5.) tensor(1.) tensor(1.)\n"
     ]
    }
   ],
   "source": [
    "#Auto grad example\n",
    "x=torch.tensor(1.0,requires_grad=True)\n",
    "w=torch.tensor(2.0,requires_grad=True)\n",
    "b=torch.tensor(1.0,requires_grad=True)\n",
    "\n",
    "#Build the graph\n",
    "y = w*(x**2)+b*x\n",
    "\n",
    "#calculate gradients\n",
    "y.backward()\n",
    "\n",
    "#print gradients\n",
    "print(x.grad,w.grad,b.grad)\n"
   ]
  },
  {
   "cell_type": "code",
   "execution_count": 38,
   "metadata": {},
   "outputs": [
    {
     "name": "stdout",
     "output_type": "stream",
     "text": [
      "torch.Size([1000, 2]) torch.Size([1000, 1]) torch.Size([2, 1])\n",
      "W: Parameter containing:\n",
      "tensor([[-0.6647, -0.6871]], requires_grad=True), b: Parameter containing:\n",
      "tensor([-0.5664], requires_grad=True)\n",
      "W: Parameter containing:\n",
      "tensor([[3.0228, 3.8815]], requires_grad=True), b: Parameter containing:\n",
      "tensor([1.0506], requires_grad=True)\n"
     ]
    }
   ],
   "source": [
    "#Simple neural network\n",
    "x = torch.randn(1000,2)\n",
    "w = torch.tensor([3.0,4.0])\n",
    "w = w.reshape(2,1)\n",
    "y = torch.mm(x,w)\n",
    "print(x.shape,y.shape,w.shape)\n",
    "net = nn.Linear(2,1)\n",
    "criterion = nn.MSELoss()\n",
    "optimizer = torch.optim.SGD(net.parameters(), lr=0.1)\n",
    "#check initial weights\n",
    "print(\"W: {}, b: {}\".format(net.weight,net.bias))\n",
    "\n",
    "#forward pass\n",
    "def forward(x):\n",
    "    prediction = net(x)\n",
    "    loss = criterion(prediction,y)\n",
    "    return loss\n",
    "\n",
    "def train(steps = 1000):\n",
    "    alpha = 0.1\n",
    "    for i in range(steps):\n",
    "        loss = forward(x)\n",
    "        loss.backward()\n",
    "        #do gradient descent\n",
    "        net.weight.data.sub_(alpha * net.weight.grad.data)\n",
    "        net.bias.data.sub_(alpha * net.bias.grad.data)\n",
    "        if i%100==0:\n",
    "            alpha*=0.5\n",
    "        #print gradients\n",
    "#         print(\"dL/dW = {} and dL/dB = {}\".format(net.weight.grad, net.bias.grad))\n",
    "#         optimizer.step()\n",
    "    print(\"W: {}, b: {}\".format(net.weight,net.bias))\n",
    "train(1000)\n",
    "\n"
   ]
  },
  {
   "cell_type": "code",
   "execution_count": null,
   "metadata": {},
   "outputs": [],
   "source": [
    "#Loading numpy data\n"
   ]
  },
  {
   "cell_type": "code",
   "execution_count": 61,
   "metadata": {},
   "outputs": [],
   "source": [
    "#making discriminator\n",
    "class Discriminator(nn.Module):\n",
    "    def __init__(self, input_size, hidden_size, num_layers, num_classes):\n",
    "        super(Discriminator, self).__init__()\n",
    "        self.hidden_size = hidden_size\n",
    "        self.num_layers = num_layers\n",
    "#         self.first_layer = torch.randn(input_size[2],1, input_size[0])\n",
    "        self.lstm = nn.LSTM(input_size, hidden_size, num_layers, batch_first=True)\n",
    "        self.fc = nn.Linear(hidden_size, num_classes)\n",
    "    \n",
    "    def forward(self, x):\n",
    "        # Set initial hidden and cell states \n",
    "        h0 = torch.zeros(self.num_layers, x.size(0), self.hidden_size).to(device) \n",
    "        c0 = torch.zeros(self.num_layers, x.size(0), self.hidden_size).to(device)\n",
    "        \n",
    "        # Forward propagate LSTM\n",
    "#         out = torch.mm(x,self.first_layer)\n",
    "#         print(out.shape)\n",
    "        out, _ = self.lstm(x, (h0, c0))  # out: tensor of shape (batch_size, seq_length, hidden_size)\n",
    "        \n",
    "        # Decode the hidden state of the last time step\n",
    "        out = self.fc(out[:, -1, :])\n",
    "        return out\n",
    "    def train()"
   ]
  },
  {
   "cell_type": "code",
   "execution_count": 62,
   "metadata": {},
   "outputs": [],
   "source": [
    "device = torch.device('cuda' if torch.cuda.is_available() else 'cpu')\n",
    "D = Discriminator(4,10,1,1).to(device)"
   ]
  },
  {
   "cell_type": "code",
   "execution_count": 64,
   "metadata": {},
   "outputs": [
    {
     "name": "stdout",
     "output_type": "stream",
     "text": [
      "tensor([[-0.1596],\n",
      "        [-0.1747],\n",
      "        [-0.1989],\n",
      "        [-0.0826],\n",
      "        [-0.2304],\n",
      "        [-0.2050],\n",
      "        [-0.1999],\n",
      "        [-0.1366],\n",
      "        [-0.0909],\n",
      "        [-0.2130]], grad_fn=<ThAddmmBackward>)\n"
     ]
    }
   ],
   "source": [
    "x = torch.randn(10,10,4)\n",
    "print(D.forward(x))"
   ]
  },
  {
   "cell_type": "code",
   "execution_count": null,
   "metadata": {},
   "outputs": [],
   "source": [
    "criterion = nn.CrossEntropyLoss()\n",
    "optimizer = torch.optim.Adam(D.parameters(), lr=learning_rate)\n",
    "total_step = len(train_loader)\n",
    "for epoch in range(num_epochs):\n",
    "    for i, (images, labels) in enumerate(train_loader):\n",
    "        \n",
    "        \n",
    "        # Forward pass\n",
    "        outputs = model(images)\n",
    "        loss = criterion(outputs, labels)\n",
    "        \n",
    "        # Backward and optimize\n",
    "        optimizer.zero_grad()\n",
    "        loss.backward()\n",
    "        optimizer.step()\n",
    "        \n",
    "        if (i+1) % 100 == 0:\n",
    "            print ('Epoch [{}/{}], Step [{}/{}], Loss: {:.4f}' \n",
    "                   .format(epoch+1, num_epochs, i+1, total_step, loss.item()))\n"
   ]
  },
  {
   "cell_type": "code",
   "execution_count": null,
   "metadata": {},
   "outputs": [],
   "source": []
  }
 ],
 "metadata": {
  "kernelspec": {
   "display_name": "Python 3",
   "language": "python",
   "name": "python3"
  },
  "language_info": {
   "codemirror_mode": {
    "name": "ipython",
    "version": 3
   },
   "file_extension": ".py",
   "mimetype": "text/x-python",
   "name": "python",
   "nbconvert_exporter": "python",
   "pygments_lexer": "ipython3",
   "version": "3.6.4"
  }
 },
 "nbformat": 4,
 "nbformat_minor": 2
}
