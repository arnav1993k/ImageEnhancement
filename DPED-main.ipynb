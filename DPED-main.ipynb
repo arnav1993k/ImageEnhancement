{
 "cells": [
  {
   "cell_type": "code",
   "execution_count": 1,
   "metadata": {},
   "outputs": [],
   "source": [
    "import numpy as np\n",
    "import tensorflow as tf\n",
    "import os\n",
    "import scipy.misc\n",
    "from easydict import EasyDict as edict\n",
    "from DPED import *\n",
    "from utils import *\n",
    "from dataloader import *\n",
    "from ops import *\n",
    "\n",
    "%reload_ext autoreload\n",
    "%autoreload 2\n",
    "\n",
    "config = edict()\n",
    "# training parameters\n",
    "config.batch_size = 50\n",
    "config.patch_size = 100\n",
    "config.mode = \"RGB\" #YCbCr\n",
    "config.channels = 3\n",
    "config.content_layer = 'relu5_4'\n",
    "config.learning_rate = 1e-4\n",
    "config.augmentation = True #data augmentation (flip, rotation)\n",
    "\n",
    "# weights for loss\n",
    "config.w_color = 1.2 # gaussian blur + mse (originally 0.1)\n",
    "config.w_texture = 1 # gan (originally 0.4)\n",
    "config.w_content = 2 # vgg19 (originally 1)\n",
    "config.w_tv = 1/400 # total variation (originally 400)\n",
    "\n",
    "config.model_name = \"DPED\"\n",
    "\n",
    "# directories\n",
    "config.dataset_name = \"iphone\"\n",
    "config.train_path_phone = os.path.join(\"/home/johnyi/Downloads/dped\",str(config.dataset_name),\"training_data\",str(config.dataset_name),\"*.jpg\")\n",
    "config.train_path_dslr = os.path.join(\"/home/johnyi/Downloads/dped\",str(config.dataset_name),\"training_data/canon/*.jpg\")\n",
    "config.test_path_phone_patch = os.path.join(\"/home/johnyi/Downloads/dped\",str(config.dataset_name),\"test_data/patches\",str(config.dataset_name),\"*.jpg\")\n",
    "config.test_path_dslr_patch = os.path.join(\"/home/johnyi/Downloads/dped\",str(config.dataset_name),\"test_data/patches/canon/*.jpg\")\n",
    "config.test_path_phone_image = os.path.join(\"/home/johnyi/deeplearning/research/SISR_Datasets/test/DPED/sample_images/original_images\",str(config.dataset_name),\"*.jpg\")\n",
    "config.test_path_dslr_image = os.path.join(\"/home/johnyi/deeplearning/research/SISR_Datasets/test/DPED/sample_images/original_images/canon/*.jpg\")\n",
    "\n",
    "config.vgg_dir = \"../vgg_pretrained/imagenet-vgg-verydeep-19.mat\"\n",
    "\n",
    "config.result_dir = os.path.join(\"./result\", config.model_name)\n",
    "config.result_img_dir = os.path.join(config.result_dir, \"samples\")\n",
    "config.checkpoint_dir = os.path.join(config.result_dir, \"model\")\n",
    "\n",
    "if not os.path.exists(config.checkpoint_dir):\n",
    "    print(\"creating dir...\", config.checkpoint_dir)\n",
    "    os.makedirs(config.checkpoint_dir)\n",
    "if not os.path.exists(config.result_dir):\n",
    "    print(\"creating dir...\", config.result_dir)\n",
    "    os.makedirs(config.result_dir)\n",
    "if not os.path.exists(config.result_img_dir):\n",
    "    print(\"creating dir...\", config.result_img_dir)\n",
    "    os.makedirs(config.result_img_dir)\n",
    "    \n",
    "config.sample_dir = \"samples\"\n",
    "if not os.path.exists(config.sample_dir):\n",
    "    print(\"creating dir...\", config.sample_dir)\n",
    "    os.makedirs(config.sample_dir)"
   ]
  },
  {
   "cell_type": "code",
   "execution_count": 2,
   "metadata": {},
   "outputs": [
    {
     "ename": "NameError",
     "evalue": "name 'load_dataset' is not defined",
     "output_type": "error",
     "traceback": [
      "\u001b[1;31m---------------------------------------------------------------------------\u001b[0m",
      "\u001b[1;31mNameError\u001b[0m                                 Traceback (most recent call last)",
      "\u001b[1;32m<ipython-input-2-831e856bfef7>\u001b[0m in \u001b[0;36m<module>\u001b[1;34m\u001b[0m\n\u001b[0;32m      1\u001b[0m \u001b[1;31m# load dataset\u001b[0m\u001b[1;33m\u001b[0m\u001b[1;33m\u001b[0m\u001b[0m\n\u001b[1;32m----> 2\u001b[1;33m \u001b[0mdataset_phone\u001b[0m\u001b[1;33m,\u001b[0m \u001b[0mdataset_dslr\u001b[0m \u001b[1;33m=\u001b[0m \u001b[0mload_dataset\u001b[0m\u001b[1;33m(\u001b[0m\u001b[0mconfig\u001b[0m\u001b[1;33m)\u001b[0m\u001b[1;33m\u001b[0m\u001b[0m\n\u001b[0m",
      "\u001b[1;31mNameError\u001b[0m: name 'load_dataset' is not defined"
     ]
    }
   ],
   "source": [
    "# load dataset\n",
    "dataset_phone, dataset_dslr = load_dataset(config)"
   ]
  },
  {
   "cell_type": "code",
   "execution_count": null,
   "metadata": {},
   "outputs": [],
   "source": [
    "# build WESPE model\n",
    "tf.reset_default_graph()\n",
    "# uncomment this when only trying to test the model\n",
    "dataset_phone = []\n",
    "dataset_dslr = []\n",
    "sess = tf.Session()\n",
    "model = DPED(sess, config, dataset_phone, dataset_dslr)"
   ]
  },
  {
   "cell_type": "code",
   "execution_count": null,
   "metadata": {},
   "outputs": [],
   "source": [
    "# pretrain discriminator with (phone, dslr) pairs\n",
    "model.pretrain_discriminator(load = False)"
   ]
  },
  {
   "cell_type": "code",
   "execution_count": null,
   "metadata": {},
   "outputs": [],
   "source": [
    "# test discriminator performance for (phone, dslr) pair\n",
    "model.test_discriminator(200, load = True)"
   ]
  },
  {
   "cell_type": "code",
   "execution_count": null,
   "metadata": {},
   "outputs": [],
   "source": [
    "# train generator & discriminator together\n",
    "model.train(load = True)"
   ]
  },
  {
   "cell_type": "code",
   "execution_count": null,
   "metadata": {},
   "outputs": [],
   "source": [
    "# test trained model\n",
    "model.test_generator(200, 4, load = True)"
   ]
  },
  {
   "cell_type": "code",
   "execution_count": null,
   "metadata": {},
   "outputs": [],
   "source": [
    "# save trained model\n",
    "model.save()"
   ]
  },
  {
   "cell_type": "code",
   "execution_count": null,
   "metadata": {},
   "outputs": [],
   "source": [
    "import scipy"
   ]
  },
  {
   "cell_type": "code",
   "execution_count": null,
   "metadata": {},
   "outputs": [],
   "source": []
  }
 ],
 "metadata": {
  "kernelspec": {
   "display_name": "Python 3",
   "language": "python",
   "name": "python3"
  },
  "language_info": {
   "codemirror_mode": {
    "name": "ipython",
    "version": 3
   },
   "file_extension": ".py",
   "mimetype": "text/x-python",
   "name": "python",
   "nbconvert_exporter": "python",
   "pygments_lexer": "ipython3",
   "version": "3.6.6"
  }
 },
 "nbformat": 4,
 "nbformat_minor": 1
}
